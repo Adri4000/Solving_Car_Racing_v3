{
 "cells": [
  {
   "attachments": {},
   "cell_type": "markdown",
   "metadata": {},
   "source": [
    "# Control Discrete CartRacing-v3 Environment"
   ]
  },
  {
   "cell_type": "markdown",
   "metadata": {},
   "source": [
    "**Students :** Adrien Fu, Raphael Faure\n",
    "\n",
    "**Date :** March 28, 2025"
   ]
  },
  {
   "cell_type": "markdown",
   "metadata": {},
   "source": [
    "<u>CAUTION</u> : Install only the `gymnasium` library, if you also have the `gym` library, it can lead to some packaging problems that prevent using the CarRacing-v3 environment"
   ]
  },
  {
   "cell_type": "code",
   "execution_count": null,
   "metadata": {},
   "outputs": [],
   "source": [
    "#!pip install gymnasium\n",
    "#!pip install \"gymnasium[box2d]\""
   ]
  },
  {
   "cell_type": "code",
   "execution_count": null,
   "metadata": {},
   "outputs": [],
   "source": [
    "import numpy as np\n",
    "import gymnasium as gym\n",
    "import matplotlib.pyplot as plt\n",
    "from IPython.display import clear_output\n",
    "\n",
    "import torch\n",
    "import torch.nn as nn\n",
    "import torch.nn.functional as F\n",
    "import cv2"
   ]
  },
  {
   "attachments": {},
   "cell_type": "markdown",
   "metadata": {},
   "source": [
    "## CarRacing-v3 environment\n",
    "\n",
    "Let's first take a look at the discrete `CarRacing-v3` environment. More information [here](https://gymnasium.farama.org/environments/box2d/car_racing/)."
   ]
  },
  {
   "cell_type": "code",
   "execution_count": null,
   "metadata": {},
   "outputs": [
    {
     "name": "stdout",
     "output_type": "stream",
     "text": [
      "Observation space:  Box(0, 255, (96, 96, 3), uint8)\n",
      "Action space:  Discrete(5)\n"
     ]
    }
   ],
   "source": [
    "env = gym.make(\"CarRacing-v3\",domain_randomize=False, continuous=False, render_mode=\"human\")\n",
    "# render_mode = 'human', 'rgb_array', 'state_pixels'\n",
    "print(\"Observation space: \", env.observation_space)\n",
    "print(\"Action space: \", env.action_space) # 0: do nothing, 1: steer right, 2: steer left, 3: gas, 4: brake"
   ]
  },
  {
   "cell_type": "markdown",
   "metadata": {},
   "source": [
    "- The game observation consists of frames of game state, where each frame is a 96 × 96 RGB image of the car and race track.\n",
    "- There are $5$ actions: $0 =$ do nothing, $1 =$ full steer left, $2 =$ full steer right, $3 =$ full gas, $4 =$ full brake.\n",
    "- The agent will receive reward $-0.1$ every frame and $+1000/N$ for every track tile visited, where $N$ is the total number of tiles visited in the track. \n",
    "- The goal is to finish the race successfully in the least number of frames possible (fast)."
   ]
  },
  {
   "cell_type": "markdown",
   "metadata": {},
   "source": [
    "---\n",
    "\n",
    "## Control CarRacing-v3 environment using Deep Q-Network (DQN)"
   ]
  },
  {
   "cell_type": "markdown",
   "metadata": {},
   "source": [
    "### Test of the environment"
   ]
  },
  {
   "cell_type": "code",
   "execution_count": null,
   "metadata": {},
   "outputs": [
    {
     "data": {
      "text/plain": [
       "'obs, info = env.reset()\\nenv.render()\\n\\nwhile True:\\n    action = env.action_space.sample()\\n    obs, r, terminated, truncated, info = env.step(action)\\n    if terminated or truncated:\\n        break\\nenv.close()'"
      ]
     },
     "execution_count": 4,
     "metadata": {},
     "output_type": "execute_result"
    }
   ],
   "source": [
    "'''obs, info = env.reset()\n",
    "env.render()\n",
    "\n",
    "while True:\n",
    "    action = env.action_space.sample()\n",
    "    obs, r, terminated, truncated, info = env.step(action)\n",
    "    if terminated or truncated:\n",
    "        break\n",
    "env.close()'''"
   ]
  },
  {
   "attachments": {},
   "cell_type": "markdown",
   "metadata": {},
   "source": [
    "At the beginning, the game screen gradually zooms in for the first 50 steps, which may hinder our agent from learning to control the car. Thus, we will not use the first 50 steps of the game.\n",
    "\n",
    "The second thing we have to know is that we are given only one current game frame for each step. This observation setting cannot satisfy the Markov property. We cannot guess if the car is moving forward or backward from only one frame, which means we cannot predict the next frame for given the current frame. Thus, we need to stack previous frames, to have information on how the car is moving.\n",
    "<br>\n",
    "\n",
    "More precisely, we will do the following steps to define our state space:\n",
    "\n",
    "1. The raw frames are preprocessed by first converting their RGB representation to gray-scale, and reshaped to a smaller size around the car (size $60 \\times 60$)\n",
    "2. We use a simple frame-skipping technique: the agent sees and selects actions on every $k=4$ frames instead of every frame, and its last action is repeated on skipped frames.\n",
    "3. The state is obtained by stacking the last $k=4$ grayscale frames."
   ]
  },
  {
   "cell_type": "code",
   "execution_count": null,
   "metadata": {},
   "outputs": [],
   "source": [
    "# Function for preprocessing each game frame. \n",
    "def preprocess(img):\n",
    "    img = img[24:84, 17:77] # specific cropping, where the car is always centered at (71,47)\n",
    "    img = cv2.cvtColor(img, cv2.COLOR_RGB2GRAY) / 255.0\n",
    "    return img"
   ]
  },
  {
   "attachments": {},
   "cell_type": "markdown",
   "metadata": {},
   "source": [
    "Now, we change the intial environment to apply the setting (`reset` method below) and observations (`step` method below) described above."
   ]
  },
  {
   "cell_type": "code",
   "execution_count": null,
   "metadata": {},
   "outputs": [],
   "source": [
    "class ImageEnv(gym.Wrapper):\n",
    "    def __init__(\n",
    "        self,\n",
    "        env,\n",
    "        skip_frames=4,\n",
    "        stack_frames=4,\n",
    "        initial_no_op=50,\n",
    "        **kwargs\n",
    "    ):\n",
    "        super(ImageEnv, self).__init__(env, **kwargs)\n",
    "        self.initial_no_op = initial_no_op\n",
    "        self.skip_frames = skip_frames\n",
    "        self.stack_frames = stack_frames\n",
    "    \n",
    "    def reset(self):\n",
    "        # Reset the original environment.\n",
    "        s, info = self.env.reset()\n",
    "        # Do nothing for the next `self.initial_no_op` steps\n",
    "        for _ in range(self.initial_no_op):\n",
    "            s, _, _, _, info = self.env.step(0)\n",
    "        s = preprocess(s)\n",
    "\n",
    "        # The initial observation is simply k copies of the frame `s`\n",
    "        self.stacked_state = np.tile(s, (self.stack_frames, 1, 1))  # of size [4, 84, 84]\n",
    "        return self.stacked_state, info\n",
    "    \n",
    "    def step(self, action):\n",
    "        # We take an action for self.skip_frames steps\n",
    "        reward = 0\n",
    "        for _ in range(self.skip_frames):\n",
    "            s, r, terminated, truncated, info = self.env.step(action)\n",
    "            reward += r\n",
    "            if terminated or truncated:\n",
    "                break\n",
    "\n",
    "        # Convert a frame to 84 X 84 gray scale one\n",
    "        s = preprocess(s)\n",
    "\n",
    "        # Push the current frame `s` at the end of self.stacked_state\n",
    "        self.stacked_state = np.concatenate((self.stacked_state[1:], s[np.newaxis]), axis=0)\n",
    "\n",
    "        return self.stacked_state, reward, terminated, truncated, info\n"
   ]
  },
  {
   "attachments": {},
   "cell_type": "markdown",
   "metadata": {},
   "source": [
    "We can create our desired environment as follows:"
   ]
  },
  {
   "cell_type": "code",
   "execution_count": null,
   "metadata": {},
   "outputs": [],
   "source": [
    "env = gym.make(\"CarRacing-v3\", domain_randomize=False, continuous=False, render_mode=\"rgb_array\")\n",
    "env = ImageEnv(env)"
   ]
  },
  {
   "cell_type": "code",
   "execution_count": null,
   "metadata": {},
   "outputs": [
    {
     "name": "stdout",
     "output_type": "stream",
     "text": [
      "The shape of an observation:  (4, 60, 60)\n"
     ]
    },
    {
     "data": {
      "image/png": "[encoded data removed]",
      "text/plain": [
       "<Figure size 2000x500 with 4 Axes>"
      ]
     },
     "metadata": {},
     "output_type": "display_data"
    }
   ],
   "source": [
    "s, _ = env.reset()\n",
    "print(\"The shape of an observation: \", s.shape)\n",
    "\n",
    "fig, axes = plt.subplots(1, 4, figsize=(20, 5))\n",
    "for i in range(4):\n",
    "    axes[i].imshow(s[i], cmap='gray')\n",
    "    axes[i].axis('off')\n",
    "plt.show()"
   ]
  },
  {
   "attachments": {},
   "cell_type": "markdown",
   "metadata": {},
   "source": [
    "Let's do `gas` action for the next 4 steps. You can see our car was moving forward!\n",
    "(The position of the car does not seem to change, but it is actually moving forward. See background)"
   ]
  },
  {
   "cell_type": "code",
   "execution_count": null,
   "metadata": {},
   "outputs": [
    {
     "data": {
      "image/png": "[encoded data removed]",
      "text/plain": [
       "<Figure size 2000x500 with 4 Axes>"
      ]
     },
     "metadata": {},
     "output_type": "display_data"
    }
   ],
   "source": [
    "for i in range(4):\n",
    "    s, r, terminated, truncated, info = env.step(3)  # 3rd action is `gas` action\n",
    "\n",
    "fig, axes = plt.subplots(1, 4, figsize=(20, 5))\n",
    "for i in range(4):\n",
    "    axes[i].imshow(s[i], cmap='gray')\n",
    "    axes[i].axis('off')\n",
    "plt.show()"
   ]
  },
  {
   "attachments": {},
   "cell_type": "markdown",
   "metadata": {},
   "source": [
    "### Q-network\n",
    "\n",
    "- The input to the neural network consists of an array of size 60 × 60 × 4. \n",
    "- The first hidden layer convolves 16 filters of size 8 x 8 with stride 4 with the input image and applies a ReLU.\n",
    "- The second hidden layer convolves 32 filters of size 4 x 4 with stride 2, again followed by a ReLU.\n",
    "- The final hidden layer is fully-connected and consists of 256 rectifier units. The output layer is a fully-connected linear layer with a single output for each valid action."
   ]
  },
  {
   "cell_type": "code",
   "execution_count": null,
   "metadata": {},
   "outputs": [],
   "source": [
    "class CNNActionValue(nn.Module):\n",
    "    def __init__(self, state_dim, action_dim): #state_dim = number of frames = 4, action_dim = 5\n",
    "        super(CNNActionValue, self).__init__()\n",
    "        self.conv1 = nn.Conv2d(state_dim, 16, kernel_size=8, stride=4)  # [N, 4, 60, 60] -> [N, 16, 14, 14]\n",
    "        self.conv2 = nn.Conv2d(16, 32, kernel_size=4, stride=2)  # [N, 16, 14, 14] -> [N, 32, 6, 6]\n",
    "        self.in_features = 32 * 6 * 6\n",
    "        self.fc1 = nn.Linear(self.in_features, 256)\n",
    "        self.fc2 = nn.Linear(256, action_dim)\n",
    "\n",
    "    def forward(self, x):\n",
    "        x = F.relu(self.conv1(x))\n",
    "        x = F.relu(self.conv2(x))\n",
    "        x = x.view((-1, self.in_features))\n",
    "        x = self.fc1(x)\n",
    "        x = self.fc2(x)\n",
    "        return x"
   ]
  },
  {
   "cell_type": "code",
   "execution_count": null,
   "metadata": {},
   "outputs": [
    {
     "name": "stdout",
     "output_type": "stream",
     "text": [
      "Number of trainable parameters : 308789\n"
     ]
    }
   ],
   "source": [
    "network = CNNActionValue(4,5) \n",
    "s = 0\n",
    "for x in network.parameters():\n",
    "    if x.requires_grad:\n",
    "        s+= np.prod(x.shape)\n",
    "print(f\"Number of trainable parameters : {s}\") # 308,789"
   ]
  },
  {
   "cell_type": "markdown",
   "metadata": {},
   "source": [
    "### Replay buffer\n",
    "\n",
    "A replay buffer is a memory storage mechanism that stores past experiences collected by the agent while interacting with the environment. Instead of learning immediately from each experience, the agent stores these experiences and later samples from them to improve learning stability and efficiency."
   ]
  },
  {
   "cell_type": "code",
   "execution_count": null,
   "metadata": {},
   "outputs": [],
   "source": [
    "class ReplayBuffer:\n",
    "    def __init__(self, state_dim, action_dim, max_size=int(1e5)):\n",
    "        self.s = np.zeros((max_size, *state_dim), dtype=np.float32)\n",
    "        self.a = np.zeros((max_size, *action_dim), dtype=np.int64)\n",
    "        self.r = np.zeros((max_size, 1), dtype=np.float32)\n",
    "        self.s_prime = np.zeros((max_size, *state_dim), dtype=np.float32)\n",
    "        self.terminated = np.zeros((max_size, 1), dtype=np.float32)\n",
    "\n",
    "        self.ptr = 0\n",
    "        self.size = 0\n",
    "        self.max_size = max_size\n",
    "\n",
    "    def update(self, s, a, r, s_prime, terminated):\n",
    "        self.s[self.ptr] = s\n",
    "        self.a[self.ptr] = a\n",
    "        self.r[self.ptr] = r\n",
    "        self.s_prime[self.ptr] = s_prime\n",
    "        self.terminated[self.ptr] = terminated\n",
    "        \n",
    "        self.ptr = (self.ptr + 1) % self.max_size\n",
    "        self.size = min(self.size + 1, self.max_size)\n",
    "        \n",
    "    def sample(self, batch_size):\n",
    "        ind = np.random.randint(0, self.size, batch_size)\n",
    "        return (\n",
    "            torch.FloatTensor(self.s[ind]),\n",
    "            torch.FloatTensor(self.a[ind]),\n",
    "            torch.FloatTensor(self.r[ind]),\n",
    "            torch.FloatTensor(self.s_prime[ind]),\n",
    "            torch.FloatTensor(self.terminated[ind]), \n",
    "        )"
   ]
  },
  {
   "attachments": {},
   "cell_type": "markdown",
   "metadata": {},
   "source": [
    "### DQN agent\n",
    "DQN agent has four methods.\n",
    "- `__init__`() as usual.\n",
    "- `act()` takes as input one state of np.ndarray and output actions by following epsilon-greedy policy.\n",
    "- `process()` method takes one transition as input and define what the agent do for each step.\n",
    "- `learn()` method samples a mini-batch from replay buffer and train Q-network.\n",
    "\n",
    "We will train our DQN agent until the total number of interactions with the environment reaches $600000$ and evaluate our agent every $1000$ steps. For the $\\epsilon$-greedy policy, we use the initial epsilon of $1.0$ and linearly decrease it to $0.1$."
   ]
  },
  {
   "cell_type": "code",
   "execution_count": null,
   "metadata": {},
   "outputs": [],
   "source": [
    "class DQN:\n",
    "    def __init__(\n",
    "        self,\n",
    "        state_dim,\n",
    "        action_dim,\n",
    "        lr=0.0004,\n",
    "        epsilon=1.0,\n",
    "        epsilon_min=0.1,\n",
    "        gamma=0.99,\n",
    "        batch_size=32,\n",
    "        warmup_steps=5000,\n",
    "        buffer_size=int(1e5),\n",
    "        target_update_interval=10000,\n",
    "    ):\n",
    "        self.action_dim = action_dim\n",
    "        self.epsilon = epsilon\n",
    "        self.gamma = gamma\n",
    "        self.batch_size = batch_size\n",
    "        self.warmup_steps = warmup_steps\n",
    "        self.target_update_interval = target_update_interval\n",
    "\n",
    "        self.network = CNNActionValue(state_dim[0], action_dim)\n",
    "        self.target_network = CNNActionValue(state_dim[0], action_dim)\n",
    "        self.target_network.load_state_dict(self.network.state_dict())\n",
    "        self.optimizer = torch.optim.RMSprop(self.network.parameters(), lr)\n",
    "\n",
    "        self.buffer = ReplayBuffer(state_dim, (1, ), buffer_size)\n",
    "        self.device = torch.device('cuda' if torch.cuda.is_available else 'cpu')\n",
    "        self.device = torch.device('cpu')\n",
    "        self.network.to(self.device)\n",
    "        self.target_network.to(self.device)\n",
    "        \n",
    "        self.total_steps = 0\n",
    "        self.epsilon_decay = (epsilon - epsilon_min) / 6e5\n",
    "    \n",
    "    @torch.no_grad()\n",
    "    def act(self, x, training=True):\n",
    "        self.network.train(training)\n",
    "        if training and ((np.random.rand() < self.epsilon) or (self.total_steps < self.warmup_steps)):\n",
    "            a = np.random.randint(0, self.action_dim)\n",
    "        else:\n",
    "            x = torch.from_numpy(x).float().unsqueeze(0).to(self.device)\n",
    "            q = self.network(x)\n",
    "            a = torch.argmax(q).item()\n",
    "        return a\n",
    "    \n",
    "    def learn(self):\n",
    "        s, a, r, s_prime, terminated = map(lambda x: x.to(self.device), self.buffer.sample(self.batch_size))\n",
    "        \n",
    "        next_q = self.target_network(s_prime).detach()\n",
    "        td_target = r + (1. - terminated) * self.gamma * next_q.max(dim=1, keepdim=True).values\n",
    "        self.optimizer.zero_grad()\n",
    "        loss = F.mse_loss(self.network(s).gather(1, a.long()), td_target)\n",
    "        loss.backward()\n",
    "        self.optimizer.step()\n",
    "        \n",
    "        result = {\n",
    "            'total_steps': self.total_steps,\n",
    "            'value_loss': loss.item()\n",
    "        }\n",
    "        return result\n",
    "    \n",
    "    def process(self, transition):\n",
    "        result = {}\n",
    "        self.total_steps += 1\n",
    "        self.buffer.update(*transition)\n",
    "\n",
    "        if self.total_steps > self.warmup_steps:\n",
    "            result = self.learn()\n",
    "            \n",
    "        if self.total_steps % self.target_update_interval == 0:\n",
    "            self.target_network.load_state_dict(self.network.state_dict())\n",
    "        self.epsilon -= self.epsilon_decay\n",
    "        return result"
   ]
  },
  {
   "attachments": {},
   "cell_type": "markdown",
   "metadata": {},
   "source": [
    "### Training DQN Agent"
   ]
  },
  {
   "cell_type": "code",
   "execution_count": null,
   "metadata": {
    "scrolled": true
   },
   "outputs": [],
   "source": [
    "env = gym.make(\"CarRacing-v3\", domain_randomize=False, continuous=False, render_mode=\"rgb_array\")\n",
    "env = ImageEnv(env)\n",
    "\n",
    "max_steps = int(6e5)\n",
    "eval_interval = 1000\n",
    "state_dim = (4, 60, 60)\n",
    "action_dim = env.action_space.n\n",
    "\n",
    "DQN_agent = DQN(state_dim, action_dim)"
   ]
  },
  {
   "cell_type": "code",
   "execution_count": null,
   "metadata": {},
   "outputs": [],
   "source": [
    "def evaluate(env, agent, n_evals=5):\n",
    "    scores = 0\n",
    "    for i in range(n_evals):\n",
    "        (s, _), done, ret = env.reset(), False, 0\n",
    "        while not done:\n",
    "            a = agent.act(s, training=False)\n",
    "            s_prime, r, terminated, truncated, info = env.step(a)\n",
    "            s = s_prime\n",
    "            ret += r\n",
    "            done = terminated or truncated\n",
    "        scores += ret\n",
    "    return np.round(scores / n_evals, 4)"
   ]
  },
  {
   "cell_type": "markdown",
   "metadata": {},
   "source": [
    "The cell below needs 11h to run"
   ]
  },
  {
   "cell_type": "code",
   "execution_count": null,
   "metadata": {
    "scrolled": true
   },
   "outputs": [
    {
     "data": {
      "image/png": "[encoded data removed]",
      "text/plain": [
       "<Figure size 800x500 with 1 Axes>"
      ]
     },
     "metadata": {},
     "output_type": "display_data"
    }
   ],
   "source": [
    "history = {'Step': [], 'AvgReturn': []}\n",
    "\n",
    "(s, _) = env.reset()\n",
    "while True:\n",
    "    a = DQN_agent.act(s)\n",
    "    s_prime, r, terminated, truncated, info = env.step(a)\n",
    "    result = DQN_agent.process((s, a, r, s_prime, terminated))  # You can track q-losses over training from `result` variable.\n",
    "    \n",
    "    s = s_prime\n",
    "    if terminated or truncated:\n",
    "        s, _ = env.reset()\n",
    "        \n",
    "    if DQN_agent.total_steps % eval_interval == 0:\n",
    "        ret = evaluate(env, DQN_agent)\n",
    "        history['Step'].append(DQN_agent.total_steps)\n",
    "        history['AvgReturn'].append(ret)\n",
    "        \n",
    "        clear_output()\n",
    "        plt.figure(figsize=(8, 5))\n",
    "        plt.plot(history['Step'], history['AvgReturn'], 'r-')\n",
    "        plt.xlabel('Step', fontsize=16)\n",
    "        plt.ylabel('AvgReturn', fontsize=16)\n",
    "        plt.xticks(fontsize=14)\n",
    "        plt.yticks(fontsize=14)\n",
    "        plt.grid(axis='y')\n",
    "        plt.show()\n",
    "        \n",
    "        torch.save(DQN_agent.network.state_dict(), 'dqn.pt')\n",
    "    \n",
    "    if DQN_agent.total_steps > max_steps:\n",
    "        break"
   ]
  },
  {
   "attachments": {},
   "cell_type": "markdown",
   "metadata": {},
   "source": [
    "### Test of the DQN agent"
   ]
  },
  {
   "cell_type": "code",
   "execution_count": null,
   "metadata": {},
   "outputs": [
    {
     "data": {
      "text/plain": [
       "CNNActionValue(\n",
       "  (conv1): Conv2d(4, 16, kernel_size=(8, 8), stride=(4, 4))\n",
       "  (conv2): Conv2d(16, 32, kernel_size=(4, 4), stride=(2, 2))\n",
       "  (fc1): Linear(in_features=1152, out_features=256, bias=True)\n",
       "  (fc2): Linear(in_features=256, out_features=5, bias=True)\n",
       ")"
      ]
     },
     "execution_count": 21,
     "metadata": {},
     "output_type": "execute_result"
    }
   ],
   "source": [
    "env = gym.make(\"CarRacing-v3\", domain_randomize=False, continuous=False, render_mode=\"rgb_array\")\n",
    "env = ImageEnv(env)\n",
    "\n",
    "DQN_agent_test = DQN(state_dim, action_dim)\n",
    "DQN_agent_test.network.load_state_dict(torch.load('true_dqn.pt'))\n",
    "DQN_agent_test.network.eval()"
   ]
  },
  {
   "cell_type": "code",
   "execution_count": null,
   "metadata": {},
   "outputs": [
    {
     "name": "stdout",
     "output_type": "stream",
     "text": [
      "Average return for the DQN agent : 633.7461\n"
     ]
    }
   ],
   "source": [
    "x = evaluate(env, DQN_agent_test, n_evals=5)\n",
    "print(f\"Average return for the DQN agent : {x}\")"
   ]
  },
  {
   "cell_type": "code",
   "execution_count": null,
   "metadata": {},
   "outputs": [],
   "source": [
    "# Simulation of the agent_test\n",
    "env = gym.make(\"CarRacing-v3\",domain_randomize=False, continuous=False, render_mode=\"human\")\n",
    "env = ImageEnv(env)\n",
    "\n",
    "(s, _), done, ret = env.reset(), False, 0\n",
    "\n",
    "done = False\n",
    "env.render()\n",
    "\n",
    "while not done:\n",
    "    a = DQN_agent_test.act(s, training=False)\n",
    "    s, r, terminated, truncated, info = env.step(a)\n",
    "    done = terminated or truncated\n",
    "\n",
    "env.close()"
   ]
  },
  {
   "cell_type": "markdown",
   "metadata": {},
   "source": [
    "---\n",
    "\n",
    "## Control CarRacing-v3 environment using Proximal Policy Optimizer (PPO)"
   ]
  },
  {
   "cell_type": "markdown",
   "metadata": {},
   "source": [
    "Here, we use the PPO algorithm implemented in `stable_baselines3` library."
   ]
  },
  {
   "cell_type": "code",
   "execution_count": null,
   "metadata": {},
   "outputs": [
    {
     "name": "stdout",
     "output_type": "stream",
     "text": [
      "Using cpu device\n",
      "Wrapping the env with a `Monitor` wrapper\n",
      "Wrapping the env in a DummyVecEnv.\n",
      "Wrapping the env in a VecTransposeImage.\n"
     ]
    }
   ],
   "source": [
    "from stable_baselines3 import PPO\n",
    "\n",
    "env = gym.make(\"CarRacing-v3\",domain_randomize=False, continuous=False, render_mode=\"rgb_array\")\n",
    "PPO_agent = PPO(\"CnnPolicy\", env, verbose=1, learning_rate=1e-4, batch_size=32)"
   ]
  },
  {
   "cell_type": "markdown",
   "metadata": {},
   "source": [
    "### Training PPO agent"
   ]
  },
  {
   "cell_type": "markdown",
   "metadata": {},
   "source": [
    "We use the `learn` attribute to train our agent. However, we didn't find a way to retrieve automatically the rewards during the training, so we will save the printings of the function in `output_PPO.txt`, then retrieve the data inside to plot the graph of rewards by number of steps."
   ]
  },
  {
   "cell_type": "markdown",
   "metadata": {},
   "source": [
    "The cell below needs 3h to run."
   ]
  },
  {
   "cell_type": "code",
   "execution_count": null,
   "metadata": {},
   "outputs": [],
   "source": [
    "from contextlib import redirect_stdout\n",
    "\n",
    "with open(\"output_PPO.txt\", \"w\") as f: # to write the output of the PPO_agent in a txt file\n",
    "    with redirect_stdout(f):\n",
    "        PPO_agent.learn(total_timesteps=1e3)\n",
    "        PPO_agent.save(\"ppo_data\")"
   ]
  },
  {
   "cell_type": "code",
   "execution_count": null,
   "metadata": {},
   "outputs": [],
   "source": [
    "import re\n",
    "\n",
    "# Read the text file\n",
    "with open(\"output_PPO.txt\", \"r\") as file:\n",
    "    text = file.read()\n",
    "\n",
    "timesteps = [int(x) for x in re.findall(r'total_timesteps\\s*\\|\\s*(\\d+)', text)]\n",
    "ep_rew_mean = [float(x) for x in re.findall(r'ep_rew_mean\\s*\\|\\s*([-+]?\\d*\\.?\\d+)', text)]\n",
    "\n",
    "assert len(timesteps) == len(ep_rew_mean)"
   ]
  },
  {
   "cell_type": "code",
   "execution_count": null,
   "metadata": {},
   "outputs": [
    {
     "data": {
      "image/png": "[encoded data removed]",
      "text/plain": [
       "<Figure size 800x500 with 1 Axes>"
      ]
     },
     "metadata": {},
     "output_type": "display_data"
    }
   ],
   "source": [
    "plt.figure(figsize=(8, 5))\n",
    "plt.plot(timesteps, ep_rew_mean, 'r-')\n",
    "plt.xlabel('Step', fontsize=16)\n",
    "plt.ylabel('AvgReturn', fontsize=16)\n",
    "plt.xticks(fontsize=14)\n",
    "plt.yticks(fontsize=14)\n",
    "plt.grid(axis='y')\n",
    "plt.show()"
   ]
  },
  {
   "cell_type": "markdown",
   "metadata": {},
   "source": [
    "### Test of the PPO agent"
   ]
  },
  {
   "cell_type": "code",
   "execution_count": null,
   "metadata": {},
   "outputs": [
    {
     "name": "stdout",
     "output_type": "stream",
     "text": [
      "Using cpu device\n",
      "Wrapping the env with a `Monitor` wrapper\n",
      "Wrapping the env in a DummyVecEnv.\n",
      "Wrapping the env in a VecTransposeImage.\n"
     ]
    }
   ],
   "source": [
    "env = gym.make(\"CarRacing-v3\",domain_randomize=False, continuous=False, render_mode=\"rgb_array\")\n",
    "\n",
    "PPO_agent_test = PPO(\"CnnPolicy\", env, verbose=1, learning_rate=1e-4, batch_size=32)\n",
    "PPO_agent_test = PPO.load(\"ppo_data\")"
   ]
  },
  {
   "cell_type": "code",
   "execution_count": null,
   "metadata": {},
   "outputs": [
    {
     "name": "stdout",
     "output_type": "stream",
     "text": [
      "Average return for the PPO agent : 774.1641\n"
     ]
    }
   ],
   "source": [
    "n_evals = 5\n",
    "\n",
    "score = 0\n",
    "for _ in range(n_evals):\n",
    "    (s, _), done, ret = env.reset(), False, 0\n",
    "    while not done:\n",
    "        action, _ = PPO_agent_test.predict(obs)\n",
    "        obs, r, terminated, truncated, info = env.step(np.array(action))\n",
    "        ret += r\n",
    "        done = terminated or truncated\n",
    "    score += ret\n",
    "print(f\"Average return for the PPO agent : {np.round(score / n_evals, 4)}\")"
   ]
  },
  {
   "cell_type": "code",
   "execution_count": null,
   "metadata": {},
   "outputs": [],
   "source": [
    "# Simulation of PPO agent\n",
    "env = gym.make(\"CarRacing-v3\",domain_randomize=False, continuous=False, render_mode=\"human\")\n",
    "\n",
    "obs, _ = env.reset()\n",
    "env.render()\n",
    "\n",
    "while True:\n",
    "    action, _ = PPO_agent_test.predict(obs)\n",
    "    obs, r, terminated, truncated, info = env.step(np.array(action))\n",
    "    if terminated or truncated:\n",
    "        break\n",
    "\n",
    "env.close()"
   ]
  }
 ],
 "metadata": {
  "kernelspec": {
   "display_name": "Python 3",
   "language": "python",
   "name": "python3"
  },
  "language_info": {
   "codemirror_mode": {
    "name": "ipython",
    "version": 3
   },
   "file_extension": ".py",
   "mimetype": "text/x-python",
   "name": "python",
   "nbconvert_exporter": "python",
   "pygments_lexer": "ipython3",
   "version": "3.13.2"
  }
 },
 "nbformat": 4,
 "nbformat_minor": 4
}
